{
 "cells": [
  {
   "cell_type": "markdown",
   "metadata": {},
   "source": [
    "# Visual Analytics\n",
    "\n",
    "## Assignment 3\n",
    "\n",
    "**Instructor:** Dr. Marco D'Ambros  \n",
    "**TAs:** Carmen Armenti, Mattia Giannaccari\n",
    "\n",
    "**Contacts:** marco.dambros@usi.ch, carmen.armenti@usi.ch, mattia.giannaccari@usi.ch\n",
    "\n",
    "**Due Date:** May 16, 2025 @ 23:55\n",
    "\n",
    "---\n",
    "The goal of this assignment is to use **Spark (PySpark)** and **Polars** in Jupyter notebooks.  \n",
    "The files `trip_data.csv`, `trip_fare.csv`, and `nyc_boroughs.geojson` are available in the provided folder: [Assignment3-data](https://usi365-my.sharepoint.com/:f:/g/personal/armenc_usi_ch/Ejp7sb8QAMROoWe0XUDcAkMBoqUFk-w2Vgroup025NhAww?e=2I7SMC).\n",
    "\n",
    "You may clean the data as needed; however, please note that specific data cleaning steps will be required in **Exercise 5**. If you choose to clean the data before Exercise 5, make sure to retain the **original dataset** for use with the Polars exercises.\n",
    "\n",
    "- Use **Spark** to solve **Exercises 1–4**\n",
    "- Use **Polars** to solve **Exercises 5–8**\n",
    "\n",
    "You are encouraged to use [Spark window functions](https://spark.apache.org/docs/latest/sql-ref-syntax-qry-select-window.html) whenever appropriate.\n",
    "\n",
    "Please name your notebook file as `SurnameName_Assignment3.ipynb`"
   ]
  },
  {
   "cell_type": "markdown",
   "metadata": {},
   "source": [
    "## Spark"
   ]
  },
  {
   "cell_type": "markdown",
   "metadata": {},
   "source": [
    "### Exercise 1\n",
    "Join the `trip_data` and `trip_fare` dataframes into one and consider only data on 2013-01-01. Please specify the number of rows obtained after joining the 2 datasets."
   ]
  },
  {
   "cell_type": "code",
   "execution_count": 1,
   "metadata": {},
   "outputs": [],
   "source": [
    "from pyspark.sql import SparkSession\n",
    "from pyspark.sql.functions import col\n",
    "from pyspark.sql.types import DateType"
   ]
  },
  {
   "cell_type": "code",
   "execution_count": 2,
   "metadata": {},
   "outputs": [],
   "source": [
    "session = SparkSession.builder.getOrCreate()"
   ]
  },
  {
   "cell_type": "code",
   "execution_count": 3,
   "metadata": {},
   "outputs": [],
   "source": [
    "trip_data_df = session.read.option(\"inferSchema\", \"true\").option(\"header\", \"true\").csv(\"./datasets/trip_data.csv\")\n",
    "trip_fare_df = session.read.option(\"inferSchema\", \"true\").option(\"header\", \"true\").csv(\"./datasets/trip_fare.csv\")\n"
   ]
  },
  {
   "cell_type": "code",
   "execution_count": 4,
   "metadata": {},
   "outputs": [],
   "source": [
    "trip_data_df.select([col(c).alias(c.strip()) for c in trip_data_df.columns]) \n",
    "trip_fare_df = trip_fare_df.select([col(c).alias(c.strip()) for c in trip_fare_df.columns])"
   ]
  },
  {
   "cell_type": "code",
   "execution_count": 5,
   "metadata": {},
   "outputs": [],
   "source": [
    "trip_data_df = trip_data_df.select(\n",
    "    \"*\",\n",
    "    col(\"pickup_datetime\").cast(DateType()).alias(\"pickup_date\")\n",
    ")"
   ]
  },
  {
   "cell_type": "code",
   "execution_count": 6,
   "metadata": {},
   "outputs": [],
   "source": [
    "joined_df = trip_data_df.join(trip_fare_df, on=[\"medallion\", \"hack_license\", \"pickup_datetime\"])"
   ]
  },
  {
   "cell_type": "code",
   "execution_count": 7,
   "metadata": {},
   "outputs": [],
   "source": [
    "filtered_df = joined_df.filter(joined_df.pickup_date == \"2013-01-01\")"
   ]
  },
  {
   "cell_type": "code",
   "execution_count": 8,
   "metadata": {},
   "outputs": [
    {
     "name": "stdout",
     "output_type": "stream",
     "text": [
      "Number of records for 2013-01-01:  412630\n"
     ]
    }
   ],
   "source": [
    "print(\"Number of records for 2013-01-01: \", filtered_df.count())"
   ]
  },
  {
   "cell_type": "markdown",
   "metadata": {},
   "source": [
    "### Exercise 2\n",
    "Provide a graphical representation to compare the average fare amount for trips _within_ and _across_ all the boroughs. You may want to have a look at: https://docs.bokeh.org/en/latest/docs/user_guide/topics/categorical.html#categorical-heatmaps"
   ]
  },
  {
   "cell_type": "markdown",
   "metadata": {},
   "source": [
    "### Exercise 3\n",
    "Consider only Manhattan, Bronx and Brooklyn boroughs. Then create a dataframe that shows the total number of trips *within* the same borough and *across* all the other boroughs mentioned before (Manhattan, Bronx, and Brooklyn) where the passengers are more or equal than 3.\n",
    "\n",
    "For example, for Manhattan borough you should consider the total number of the following trips:\n",
    "- Manhattan → Manhattan\n",
    "- Manhattan → Bronx\n",
    "- Manhattan → Brooklyn\n",
    "\n",
    "You should then do the same for Bronx and Brooklyn boroughs."
   ]
  },
  {
   "cell_type": "markdown",
   "metadata": {},
   "source": [
    "### Exercise 4\n",
    "Create a dataframe where each row represents a driver, and there is one column per borough.\n",
    "For each driver-borough, the dataframe provides the maximum number of consecutive trips\n",
    "for the given driver, within the given borough. Please consider only trips which were payed by card. \n",
    "\n",
    "For example, if for driver A we have (sorted by time):\n",
    "- Trip 1: Bronx → Bronx\n",
    "- Trip 2: Bronx → Bronx\n",
    "- Trip 3: Bronx → Manhattan\n",
    "- Trip 4: Manhattan → Bronx.\n",
    "    \n",
    "The maximum number of consecutive trips for Bronx is 2."
   ]
  },
  {
   "cell_type": "markdown",
   "metadata": {},
   "source": [
    "## Polars"
   ]
  },
  {
   "cell_type": "markdown",
   "metadata": {},
   "source": [
    "### Exercise 5\n",
    "\n",
    "Please work on the merged dataset of trips and fares and perform the following data cleaning tasks:\n",
    "\n",
    "1. Remove trips with invalid locations (i.e. not in New York City);\n",
    "3. Remove trips with invalid amounts:\n",
    "    - Total amount must be greater than zero;\n",
    "    - Total amount must correspond to the sum of all the other amounts.\n",
    "5. Remove trips with invalid time:\n",
    "    - Pick-up before drop-off;\n",
    "    - Valid duration.\n",
    "\n",
    "After each data cleaning task, report how many rows where removed. Finally report:\n",
    "- Are there **duplicate trips**?\n",
    "- How many trips remain after cleaning?"
   ]
  },
  {
   "cell_type": "code",
   "execution_count": 9,
   "metadata": {},
   "outputs": [],
   "source": [
    "import polars as pl"
   ]
  },
  {
   "cell_type": "code",
   "execution_count": null,
   "metadata": {},
   "outputs": [],
   "source": [
    "trip_data_df = pl.read_csv(\n",
    "    \"./datasets/trip_data.csv\",\n",
    "    infer_schema_length=100,\n",
    "    has_header=True,\n",
    "    encoding=\"us-ascii\"\n",
    ")\n",
    "trip_fare_df = pl.read_csv(\n",
    "    \"./datasets/trip_fare.csv\",\n",
    "    infer_schema_length=100,\n",
    "    has_header=True,\n",
    "    schema_overrides={\" tip_amount\": pl.Float64},\n",
    "    encoding=\"us-ascii\"\n",
    ")"
   ]
  },
  {
   "cell_type": "code",
   "execution_count": 15,
   "metadata": {},
   "outputs": [
    {
     "data": {
      "text/html": [
       "<div><style>\n",
       ".dataframe > thead > tr,\n",
       ".dataframe > tbody > tr {\n",
       "  text-align: right;\n",
       "  white-space: pre-wrap;\n",
       "}\n",
       "</style>\n",
       "<small>shape: (5, 11)</small><table border=\"1\" class=\"dataframe\"><thead><tr><th>medallion</th><th> hack_license</th><th> vendor_id</th><th> pickup_datetime</th><th> payment_type</th><th> fare_amount</th><th> surcharge</th><th> mta_tax</th><th> tip_amount</th><th> tolls_amount</th><th> total_amount</th></tr><tr><td>str</td><td>str</td><td>str</td><td>str</td><td>str</td><td>f64</td><td>f64</td><td>f64</td><td>f64</td><td>f64</td><td>f64</td></tr></thead><tbody><tr><td>&quot;89D227B655E5C82AECF13C3F540D4C…</td><td>&quot;BA96DE419E711691B9445D6A6307C1…</td><td>&quot;CMT&quot;</td><td>&quot;2013-01-01 15:11:48&quot;</td><td>&quot;CSH&quot;</td><td>6.5</td><td>0.0</td><td>0.5</td><td>0.0</td><td>0.0</td><td>7.0</td></tr><tr><td>&quot;0BD7C8F5BA12B88E0B67BED28BEA73…</td><td>&quot;9FD8F69F0804BDB5549F40E9DA1BE4…</td><td>&quot;CMT&quot;</td><td>&quot;2013-01-06 00:18:35&quot;</td><td>&quot;CSH&quot;</td><td>6.0</td><td>0.5</td><td>0.5</td><td>0.0</td><td>0.0</td><td>7.0</td></tr><tr><td>&quot;0BD7C8F5BA12B88E0B67BED28BEA73…</td><td>&quot;9FD8F69F0804BDB5549F40E9DA1BE4…</td><td>&quot;CMT&quot;</td><td>&quot;2013-01-05 18:49:41&quot;</td><td>&quot;CSH&quot;</td><td>5.5</td><td>1.0</td><td>0.5</td><td>0.0</td><td>0.0</td><td>7.0</td></tr><tr><td>&quot;DFD2202EE08F7A8DC9A57B02ACB81F…</td><td>&quot;51EE87E3205C985EF8431D850C7863…</td><td>&quot;CMT&quot;</td><td>&quot;2013-01-07 23:54:15&quot;</td><td>&quot;CSH&quot;</td><td>5.0</td><td>0.5</td><td>0.5</td><td>0.0</td><td>0.0</td><td>6.0</td></tr><tr><td>&quot;DFD2202EE08F7A8DC9A57B02ACB81F…</td><td>&quot;51EE87E3205C985EF8431D850C7863…</td><td>&quot;CMT&quot;</td><td>&quot;2013-01-07 23:25:03&quot;</td><td>&quot;CSH&quot;</td><td>9.5</td><td>0.5</td><td>0.5</td><td>0.0</td><td>0.0</td><td>10.5</td></tr></tbody></table></div>"
      ],
      "text/plain": [
       "shape: (5, 11)\n",
       "┌───────────┬───────────┬───────────┬───────────┬───┬──────────┬───────────┬───────────┬───────────┐\n",
       "│ medallion ┆ hack_lice ┆ vendor_id ┆ pickup_da ┆ … ┆  mta_tax ┆ tip_amoun ┆ tolls_amo ┆ total_amo │\n",
       "│ ---       ┆ nse       ┆ ---       ┆ tetime    ┆   ┆ ---      ┆ t         ┆ unt       ┆ unt       │\n",
       "│ str       ┆ ---       ┆ str       ┆ ---       ┆   ┆ f64      ┆ ---       ┆ ---       ┆ ---       │\n",
       "│           ┆ str       ┆           ┆ str       ┆   ┆          ┆ f64       ┆ f64       ┆ f64       │\n",
       "╞═══════════╪═══════════╪═══════════╪═══════════╪═══╪══════════╪═══════════╪═══════════╪═══════════╡\n",
       "│ 89D227B65 ┆ BA96DE419 ┆ CMT       ┆ 2013-01-0 ┆ … ┆ 0.5      ┆ 0.0       ┆ 0.0       ┆ 7.0       │\n",
       "│ 5E5C82AEC ┆ E711691B9 ┆           ┆ 1         ┆   ┆          ┆           ┆           ┆           │\n",
       "│ F13C3F540 ┆ 445D6A630 ┆           ┆ 15:11:48  ┆   ┆          ┆           ┆           ┆           │\n",
       "│ D4C…      ┆ 7C1…      ┆           ┆           ┆   ┆          ┆           ┆           ┆           │\n",
       "│ 0BD7C8F5B ┆ 9FD8F69F0 ┆ CMT       ┆ 2013-01-0 ┆ … ┆ 0.5      ┆ 0.0       ┆ 0.0       ┆ 7.0       │\n",
       "│ A12B88E0B ┆ 804BDB554 ┆           ┆ 6         ┆   ┆          ┆           ┆           ┆           │\n",
       "│ 67BED28BE ┆ 9F40E9DA1 ┆           ┆ 00:18:35  ┆   ┆          ┆           ┆           ┆           │\n",
       "│ A73…      ┆ BE4…      ┆           ┆           ┆   ┆          ┆           ┆           ┆           │\n",
       "│ 0BD7C8F5B ┆ 9FD8F69F0 ┆ CMT       ┆ 2013-01-0 ┆ … ┆ 0.5      ┆ 0.0       ┆ 0.0       ┆ 7.0       │\n",
       "│ A12B88E0B ┆ 804BDB554 ┆           ┆ 5         ┆   ┆          ┆           ┆           ┆           │\n",
       "│ 67BED28BE ┆ 9F40E9DA1 ┆           ┆ 18:49:41  ┆   ┆          ┆           ┆           ┆           │\n",
       "│ A73…      ┆ BE4…      ┆           ┆           ┆   ┆          ┆           ┆           ┆           │\n",
       "│ DFD2202EE ┆ 51EE87E32 ┆ CMT       ┆ 2013-01-0 ┆ … ┆ 0.5      ┆ 0.0       ┆ 0.0       ┆ 6.0       │\n",
       "│ 08F7A8DC9 ┆ 05C985EF8 ┆           ┆ 7         ┆   ┆          ┆           ┆           ┆           │\n",
       "│ A57B02ACB ┆ 431D850C7 ┆           ┆ 23:54:15  ┆   ┆          ┆           ┆           ┆           │\n",
       "│ 81F…      ┆ 863…      ┆           ┆           ┆   ┆          ┆           ┆           ┆           │\n",
       "│ DFD2202EE ┆ 51EE87E32 ┆ CMT       ┆ 2013-01-0 ┆ … ┆ 0.5      ┆ 0.0       ┆ 0.0       ┆ 10.5      │\n",
       "│ 08F7A8DC9 ┆ 05C985EF8 ┆           ┆ 7         ┆   ┆          ┆           ┆           ┆           │\n",
       "│ A57B02ACB ┆ 431D850C7 ┆           ┆ 23:25:03  ┆   ┆          ┆           ┆           ┆           │\n",
       "│ 81F…      ┆ 863…      ┆           ┆           ┆   ┆          ┆           ┆           ┆           │\n",
       "└───────────┴───────────┴───────────┴───────────┴───┴──────────┴───────────┴───────────┴───────────┘"
      ]
     },
     "execution_count": 15,
     "metadata": {},
     "output_type": "execute_result"
    }
   ],
   "source": [
    "trip_fare_df.head(5)"
   ]
  },
  {
   "cell_type": "code",
   "execution_count": 18,
   "metadata": {},
   "outputs": [
    {
     "name": "stdout",
     "output_type": "stream",
     "text": [
      "Trip data columns:  ['medallion', 'hack_license', 'vendor_id', 'rate_code', 'store_and_fwd_flag', 'pickup_datetime', 'dropoff_datetime', 'passenger_count', 'trip_time_in_secs', 'trip_distance', 'pickup_longitude', 'pickup_latitude', 'dropoff_longitude', 'dropoff_latitude']\n",
      "Trip fare columns:  ['medallion', 'hack_license', 'vendor_id', 'pickup_datetime', 'payment_type', 'fare_amount', 'surcharge', 'mta_tax', 'tip_amount', 'tolls_amount', 'total_amount']\n"
     ]
    }
   ],
   "source": [
    "print(\"Trip data columns: \", trip_data_df.columns)\n",
    "print(\"Trip fare columns: \", trip_fare_df.columns)"
   ]
  },
  {
   "cell_type": "code",
   "execution_count": null,
   "metadata": {},
   "outputs": [],
   "source": [
    "trip_data_df = trip_data_df.rename({name: name.strip() for name in trip_data_df.columns})\n",
    "trip_fare_df = trip_fare_df.rename({name: name.strip() for name in trip_fare_df.columns})"
   ]
  },
  {
   "cell_type": "code",
   "execution_count": 19,
   "metadata": {},
   "outputs": [],
   "source": [
    "joined_df = trip_data_df.join(trip_fare_df, on=[\"medallion\", \"hack_license\", \"pickup_datetime\"], how=\"inner\")"
   ]
  },
  {
   "cell_type": "code",
   "execution_count": 20,
   "metadata": {},
   "outputs": [
    {
     "data": {
      "text/html": [
       "<div><style>\n",
       ".dataframe > thead > tr,\n",
       ".dataframe > tbody > tr {\n",
       "  text-align: right;\n",
       "  white-space: pre-wrap;\n",
       "}\n",
       "</style>\n",
       "<small>shape: (5, 22)</small><table border=\"1\" class=\"dataframe\"><thead><tr><th>medallion</th><th>hack_license</th><th>vendor_id</th><th>rate_code</th><th>store_and_fwd_flag</th><th>pickup_datetime</th><th>dropoff_datetime</th><th>passenger_count</th><th>trip_time_in_secs</th><th>trip_distance</th><th>pickup_longitude</th><th>pickup_latitude</th><th>dropoff_longitude</th><th>dropoff_latitude</th><th>vendor_id_right</th><th>payment_type</th><th>fare_amount</th><th>surcharge</th><th>mta_tax</th><th>tip_amount</th><th>tolls_amount</th><th>total_amount</th></tr><tr><td>str</td><td>str</td><td>str</td><td>i64</td><td>str</td><td>str</td><td>str</td><td>i64</td><td>i64</td><td>f64</td><td>f64</td><td>f64</td><td>f64</td><td>f64</td><td>str</td><td>str</td><td>f64</td><td>f64</td><td>f64</td><td>f64</td><td>f64</td><td>f64</td></tr></thead><tbody><tr><td>&quot;89D227B655E5C82AECF13C3F540D4C…</td><td>&quot;BA96DE419E711691B9445D6A6307C1…</td><td>&quot;CMT&quot;</td><td>1</td><td>&quot;N&quot;</td><td>&quot;2013-01-01 15:11:48&quot;</td><td>&quot;2013-01-01 15:18:10&quot;</td><td>4</td><td>382</td><td>1.0</td><td>-73.978165</td><td>40.757977</td><td>-73.989838</td><td>40.751171</td><td>&quot;CMT&quot;</td><td>&quot;CSH&quot;</td><td>6.5</td><td>0.0</td><td>0.5</td><td>0.0</td><td>0.0</td><td>7.0</td></tr><tr><td>&quot;0BD7C8F5BA12B88E0B67BED28BEA73…</td><td>&quot;9FD8F69F0804BDB5549F40E9DA1BE4…</td><td>&quot;CMT&quot;</td><td>1</td><td>&quot;N&quot;</td><td>&quot;2013-01-06 00:18:35&quot;</td><td>&quot;2013-01-06 00:22:54&quot;</td><td>1</td><td>259</td><td>1.5</td><td>-74.006683</td><td>40.731781</td><td>-73.994499</td><td>40.75066</td><td>&quot;CMT&quot;</td><td>&quot;CSH&quot;</td><td>6.0</td><td>0.5</td><td>0.5</td><td>0.0</td><td>0.0</td><td>7.0</td></tr><tr><td>&quot;0BD7C8F5BA12B88E0B67BED28BEA73…</td><td>&quot;9FD8F69F0804BDB5549F40E9DA1BE4…</td><td>&quot;CMT&quot;</td><td>1</td><td>&quot;N&quot;</td><td>&quot;2013-01-05 18:49:41&quot;</td><td>&quot;2013-01-05 18:54:23&quot;</td><td>1</td><td>282</td><td>1.1</td><td>-74.004707</td><td>40.73777</td><td>-74.009834</td><td>40.726002</td><td>&quot;CMT&quot;</td><td>&quot;CSH&quot;</td><td>5.5</td><td>1.0</td><td>0.5</td><td>0.0</td><td>0.0</td><td>7.0</td></tr><tr><td>&quot;DFD2202EE08F7A8DC9A57B02ACB81F…</td><td>&quot;51EE87E3205C985EF8431D850C7863…</td><td>&quot;CMT&quot;</td><td>1</td><td>&quot;N&quot;</td><td>&quot;2013-01-07 23:54:15&quot;</td><td>&quot;2013-01-07 23:58:20&quot;</td><td>2</td><td>244</td><td>0.7</td><td>-73.974602</td><td>40.759945</td><td>-73.984734</td><td>40.759388</td><td>&quot;CMT&quot;</td><td>&quot;CSH&quot;</td><td>5.0</td><td>0.5</td><td>0.5</td><td>0.0</td><td>0.0</td><td>6.0</td></tr><tr><td>&quot;DFD2202EE08F7A8DC9A57B02ACB81F…</td><td>&quot;51EE87E3205C985EF8431D850C7863…</td><td>&quot;CMT&quot;</td><td>1</td><td>&quot;N&quot;</td><td>&quot;2013-01-07 23:25:03&quot;</td><td>&quot;2013-01-07 23:34:24&quot;</td><td>1</td><td>560</td><td>2.1</td><td>-73.97625</td><td>40.748528</td><td>-74.002586</td><td>40.747868</td><td>&quot;CMT&quot;</td><td>&quot;CSH&quot;</td><td>9.5</td><td>0.5</td><td>0.5</td><td>0.0</td><td>0.0</td><td>10.5</td></tr></tbody></table></div>"
      ],
      "text/plain": [
       "shape: (5, 22)\n",
       "┌────────────┬───────────┬───────────┬───────────┬───┬─────────┬───────────┬───────────┬───────────┐\n",
       "│ medallion  ┆ hack_lice ┆ vendor_id ┆ rate_code ┆ … ┆ mta_tax ┆ tip_amoun ┆ tolls_amo ┆ total_amo │\n",
       "│ ---        ┆ nse       ┆ ---       ┆ ---       ┆   ┆ ---     ┆ t         ┆ unt       ┆ unt       │\n",
       "│ str        ┆ ---       ┆ str       ┆ i64       ┆   ┆ f64     ┆ ---       ┆ ---       ┆ ---       │\n",
       "│            ┆ str       ┆           ┆           ┆   ┆         ┆ f64       ┆ f64       ┆ f64       │\n",
       "╞════════════╪═══════════╪═══════════╪═══════════╪═══╪═════════╪═══════════╪═══════════╪═══════════╡\n",
       "│ 89D227B655 ┆ BA96DE419 ┆ CMT       ┆ 1         ┆ … ┆ 0.5     ┆ 0.0       ┆ 0.0       ┆ 7.0       │\n",
       "│ E5C82AECF1 ┆ E711691B9 ┆           ┆           ┆   ┆         ┆           ┆           ┆           │\n",
       "│ 3C3F540D4C ┆ 445D6A630 ┆           ┆           ┆   ┆         ┆           ┆           ┆           │\n",
       "│ …          ┆ 7C1…      ┆           ┆           ┆   ┆         ┆           ┆           ┆           │\n",
       "│ 0BD7C8F5BA ┆ 9FD8F69F0 ┆ CMT       ┆ 1         ┆ … ┆ 0.5     ┆ 0.0       ┆ 0.0       ┆ 7.0       │\n",
       "│ 12B88E0B67 ┆ 804BDB554 ┆           ┆           ┆   ┆         ┆           ┆           ┆           │\n",
       "│ BED28BEA73 ┆ 9F40E9DA1 ┆           ┆           ┆   ┆         ┆           ┆           ┆           │\n",
       "│ …          ┆ BE4…      ┆           ┆           ┆   ┆         ┆           ┆           ┆           │\n",
       "│ 0BD7C8F5BA ┆ 9FD8F69F0 ┆ CMT       ┆ 1         ┆ … ┆ 0.5     ┆ 0.0       ┆ 0.0       ┆ 7.0       │\n",
       "│ 12B88E0B67 ┆ 804BDB554 ┆           ┆           ┆   ┆         ┆           ┆           ┆           │\n",
       "│ BED28BEA73 ┆ 9F40E9DA1 ┆           ┆           ┆   ┆         ┆           ┆           ┆           │\n",
       "│ …          ┆ BE4…      ┆           ┆           ┆   ┆         ┆           ┆           ┆           │\n",
       "│ DFD2202EE0 ┆ 51EE87E32 ┆ CMT       ┆ 1         ┆ … ┆ 0.5     ┆ 0.0       ┆ 0.0       ┆ 6.0       │\n",
       "│ 8F7A8DC9A5 ┆ 05C985EF8 ┆           ┆           ┆   ┆         ┆           ┆           ┆           │\n",
       "│ 7B02ACB81F ┆ 431D850C7 ┆           ┆           ┆   ┆         ┆           ┆           ┆           │\n",
       "│ …          ┆ 863…      ┆           ┆           ┆   ┆         ┆           ┆           ┆           │\n",
       "│ DFD2202EE0 ┆ 51EE87E32 ┆ CMT       ┆ 1         ┆ … ┆ 0.5     ┆ 0.0       ┆ 0.0       ┆ 10.5      │\n",
       "│ 8F7A8DC9A5 ┆ 05C985EF8 ┆           ┆           ┆   ┆         ┆           ┆           ┆           │\n",
       "│ 7B02ACB81F ┆ 431D850C7 ┆           ┆           ┆   ┆         ┆           ┆           ┆           │\n",
       "│ …          ┆ 863…      ┆           ┆           ┆   ┆         ┆           ┆           ┆           │\n",
       "└────────────┴───────────┴───────────┴───────────┴───┴─────────┴───────────┴───────────┴───────────┘"
      ]
     },
     "execution_count": 20,
     "metadata": {},
     "output_type": "execute_result"
    }
   ],
   "source": [
    "joined_df.head(5)"
   ]
  },
  {
   "cell_type": "code",
   "execution_count": 26,
   "metadata": {},
   "outputs": [
    {
     "name": "stdout",
     "output_type": "stream",
     "text": [
      "Number of records before filtering:  14776615\n",
      "Number of records after filtering:  14504034\n",
      "Deleted records:  272581\n"
     ]
    }
   ],
   "source": [
    "ny_df = joined_df.filter(\n",
    "    (joined_df[\"pickup_latitude\"] >= 40.4774) &\n",
    "    (joined_df[\"pickup_latitude\"] <= 40.9176) &\n",
    "    (joined_df[\"pickup_longitude\"] >= -74.2590) &\n",
    "    (joined_df[\"pickup_longitude\"] <= -73.7004)\n",
    ")\n",
    "print(\"Number of records before filtering: \", joined_df.shape[0])\n",
    "print(\"Number of records after filtering: \", ny_df.shape[0])\n",
    "print(\"Deleted records: \", joined_df.shape[0] - ny_df.shape[0])"
   ]
  },
  {
   "cell_type": "code",
   "execution_count": 29,
   "metadata": {},
   "outputs": [],
   "source": [
    "ny_df = ny_df.filter(\n",
    "    (ny_df[\"total_amount\"] >= 0) & \n",
    "    (ny_df[\"total_amount\"] == ny_df[\"fare_amount\"] + ny_df[\"tolls_amount\"] + ny_df[\"tip_amount\"]) &\n",
    "    (ny_df[\"pickup_datetime\"] < ny_df[\"dropoff_datetime\"])\n",
    "\n",
    ")"
   ]
  },
  {
   "cell_type": "markdown",
   "metadata": {},
   "source": [
    "### Exercise 6\n",
    "\n",
    "Compute the **total revenue** (total_amount) grouped by:\n",
    "- Pick-up hour of the day (0–23)\n",
    "- Passenger count (group >=6 into “6+”)\n",
    "\n",
    "Create a heatmap where:\n",
    "- X-axis = hour\n",
    "- Y-axis = passenger count group\n",
    "- Cell value = average revenue per trip"
   ]
  },
  {
   "cell_type": "markdown",
   "metadata": {},
   "source": [
    "### Exercise 7\n",
    "\n",
    "Define an \"anomalous trip\" as one that satisfies at least two of the following:\n",
    "- Fare per mile is above the 95th percentile\n",
    "- Tip amount > 100% of fare\n",
    "- trip_time_in_secs is less than 60 seconds but distance is more than 1 mile\n",
    "\n",
    "Create a dataframe of anomalous trips and:\n",
    "- Report how many such trips exist\n",
    "- Create a scatterplot to visualize the anomaly metrics\n",
    "- Describe the visualization identifying groups and outliers"
   ]
  },
  {
   "cell_type": "markdown",
   "metadata": {},
   "source": [
    "### Exercise 8\n",
    "For each driver (hack_license), calculate the **total profit per hour worked**, where:\n",
    "> profit = 0.7 * (fare_amount + tip_amount) when the trip starts between 7:01 AM and 7:00 PM\\\n",
    "> profit = 0.8 * (fare_amount + tip_amount) when the trip starts between 7:01PM and 7:00 AM\n",
    "\n",
    "Estimate \"hours worked\" by summing trip_time_in_secs.\n",
    "\n",
    "Plot a line chart showing the distribution of average profit per hour **for the top 10% drivers** in terms of total trips.\n",
    "\n",
    "Which time of day offers **best earning efficiency**?"
   ]
  },
  {
   "cell_type": "markdown",
   "metadata": {},
   "source": []
  }
 ],
 "metadata": {
  "kernelspec": {
   "display_name": "Python 3",
   "language": "python",
   "name": "python3"
  },
  "language_info": {
   "codemirror_mode": {
    "name": "ipython",
    "version": 3
   },
   "file_extension": ".py",
   "mimetype": "text/x-python",
   "name": "python",
   "nbconvert_exporter": "python",
   "pygments_lexer": "ipython3",
   "version": "3.13.2"
  }
 },
 "nbformat": 4,
 "nbformat_minor": 2
}
